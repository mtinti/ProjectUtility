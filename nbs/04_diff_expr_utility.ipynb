{
 "cells": [
  {
   "cell_type": "code",
   "execution_count": null,
   "id": "2e303112-a251-40cc-97d7-034a434e20c5",
   "metadata": {},
   "outputs": [],
   "source": [
    "#| default_exp diff_expr"
   ]
  },
  {
   "cell_type": "markdown",
   "id": "7bf3b3b9-e6a6-46a4-b4bb-2421e5222eca",
   "metadata": {},
   "source": [
    "# Volcano and MA Plot Visualization for Omics Data\n",
    "\n",
    "> This notebook provides interactive visualization tools for displaying omics data in two common formats: Volcano plots and MA plots. \n"
   ]
  },
  {
   "cell_type": "code",
   "execution_count": null,
   "id": "3f99310c-316d-49c3-9043-a7ebdbeda302",
   "metadata": {},
   "outputs": [],
   "source": [
    "#| hide\n",
    "import warnings\n",
    "warnings.filterwarnings(\"ignore\")"
   ]
  },
  {
   "cell_type": "code",
   "execution_count": null,
   "id": "5c536a64-feb5-486f-9d39-428d6ec2ac70",
   "metadata": {},
   "outputs": [],
   "source": [
    "#| hide\n",
    "from nbdev.showdoc import *"
   ]
  },
  {
   "cell_type": "code",
   "execution_count": null,
   "id": "53ebf88b-b5e4-43bf-8609-890838e683c9",
   "metadata": {},
   "outputs": [
    {
     "name": "stderr",
     "output_type": "stream",
     "text": [
      "/Users/MTinti/miniconda3/envs/work3/lib/python3.10/site-packages/pandas/core/arrays/masked.py:60: UserWarning: Pandas requires version '1.3.6' or newer of 'bottleneck' (version '1.3.4' currently installed).\n",
      "  from pandas.core import (\n"
     ]
    },
    {
     "data": {
      "text/html": [
       "        <script type=\"text/javascript\">\n",
       "        window.PlotlyConfig = {MathJaxConfig: 'local'};\n",
       "        if (window.MathJax && window.MathJax.Hub && window.MathJax.Hub.Config) {window.MathJax.Hub.Config({SVG: {font: \"STIX-Web\"}});}\n",
       "        if (typeof require !== 'undefined') {\n",
       "        require.undef(\"plotly\");\n",
       "        requirejs.config({\n",
       "            paths: {\n",
       "                'plotly': ['https://cdn.plot.ly/plotly-2.20.0.min']\n",
       "            }\n",
       "        });\n",
       "        require(['plotly'], function(Plotly) {\n",
       "            window._Plotly = Plotly;\n",
       "        });\n",
       "        }\n",
       "        </script>\n",
       "        "
      ]
     },
     "metadata": {},
     "output_type": "display_data"
    }
   ],
   "source": [
    "#| export\n",
    "import pandas as pd\n",
    "import numpy as np\n",
    "import plotly.graph_objects as go\n",
    "from plotly.subplots import make_subplots"
   ]
  },
  {
   "cell_type": "markdown",
   "id": "871f6a45-f41f-4d78-8d03-de83bc3dfa08",
   "metadata": {},
   "source": [
    "## Data Loading and Processing\n",
    "\n",
    "> The PlotData class handles loading data from CSV files and mapping columns to standard names. "
   ]
  },
  {
   "cell_type": "code",
   "execution_count": null,
   "id": "847929a0-36d4-473d-a0cc-5182b0e54060",
   "metadata": {},
   "outputs": [],
   "source": [
    "#| export\n",
    "class PlotData:\n",
    "    def __init__(self, file_path, column_mapping=None, log_fdr=False):\n",
    "        \"\"\"\n",
    "        Initialize the PlotData class for various omics experiments.\n",
    "        \n",
    "        Parameters:\n",
    "        -----------\n",
    "        file_path : str\n",
    "            Path to the CSV file containing omics data\n",
    "        column_mapping : dict, optional\n",
    "            Dictionary mapping standard column names to the actual column names in the file\n",
    "            Default column names expected: 'log2fc', 'fdr', 'avg_intensity', 'id', 'description'\n",
    "        log_fdr : bool, optional\n",
    "            Whether to calculate -log10 of FDR values (default: False)\n",
    "        \"\"\"\n",
    "        self.file_path = file_path\n",
    "        self.column_mapping = column_mapping or {\n",
    "            'log2fc': 'logFC',\n",
    "            'fdr': 'adj.P.Val',\n",
    "            'avg_intensity': 'AveExpr',\n",
    "            'id': None,  # Will use index if None\n",
    "            'description': None  # May not be present in all datasets\n",
    "        }\n",
    "        self.log_fdr = log_fdr  # Store as instance variable\n",
    "        self.data = None\n",
    "        self.load_data()\n",
    "        \n",
    "    def load_data(self):\n",
    "        \"\"\"Load and process the data from the CSV file.\"\"\"\n",
    "        try:\n",
    "            self.data = pd.read_csv(self.file_path, index_col=0)\n",
    "            \n",
    "            # Map the columns and store as class attributes\n",
    "            for std_col, file_col in self.column_mapping.items():\n",
    "                if file_col is None and std_col == 'id':\n",
    "                    # Use index as ID if not specified\n",
    "                    setattr(self, std_col, self.data.index.values)\n",
    "                elif file_col is None and std_col == 'description':\n",
    "                    # Set empty descriptions if not available\n",
    "                    setattr(self, std_col, np.array([''] * len(self.data)))\n",
    "                elif file_col in self.data.columns:\n",
    "                    setattr(self, std_col, self.data[file_col].values)\n",
    "                else:\n",
    "                    raise ValueError(f\"Column '{file_col}' not found in the data file\")\n",
    "            \n",
    "            # Calculate -log10(FDR) for volcano plot\n",
    "            if self.log_fdr:  # Use self.log_fdr instead of log_fdr\n",
    "                self.log10_fdr = -np.log10(self.fdr)\n",
    "            else:\n",
    "                self.log10_fdr = self.fdr\n",
    "            \n",
    "            return True\n",
    "            \n",
    "        except Exception as e:\n",
    "            print(f\"Error loading data: {e}\")\n",
    "            return False\n",
    "        \n",
    "    def get_significant_indices(self, log2fc_threshold=1.0, fdr_threshold=0.05):\n",
    "        \"\"\"\n",
    "        Get indices of significant features based on thresholds.\n",
    "\n",
    "        Parameters:\n",
    "        -----------\n",
    "        log2fc_threshold : float\n",
    "            Absolute log2 fold change threshold\n",
    "        fdr_threshold : float\n",
    "            FDR threshold\n",
    "\n",
    "        Returns:\n",
    "        --------\n",
    "        numpy.ndarray\n",
    "            Indices of significant features\n",
    "        \"\"\"\n",
    "        significant = (np.abs(self.log2fc) >= log2fc_threshold) & (self.fdr <= fdr_threshold)\n",
    "        return np.where(significant)[0]\n",
    "    \n",
    "    def get_data_for_plotting(self):\n",
    "        \"\"\"\n",
    "        Get all data in a format ready for plotting.\n",
    "\n",
    "        Returns:\n",
    "        --------\n",
    "        dict\n",
    "            Dictionary with all data needed for plotting\n",
    "        \"\"\"\n",
    "        return {\n",
    "            'log2fc': self.log2fc,\n",
    "            'log10_fdr': self.log10_fdr,\n",
    "            'avg_intensity': self.avg_intensity,\n",
    "            'id': self.id,\n",
    "            'description': self.description,\n",
    "            'fdr': self.fdr\n",
    "        }    "
   ]
  },
  {
   "cell_type": "code",
   "execution_count": null,
   "id": "fc1a1134-5bd9-4278-93bd-9dc45a46b174",
   "metadata": {},
   "outputs": [],
   "source": [
    "#| export\n",
    "# empty container for plotting data with standard names.\n",
    "empty_data_dict = {\n",
    "            'log2fc': np.nan,\n",
    "            'log10_fdr': np.nan,\n",
    "            'avg_intensity': np.nan,\n",
    "            'id': np.nan,\n",
    "            'description': np.nan,\n",
    "            'fdr': np.nan\n",
    "        }"
   ]
  },
  {
   "cell_type": "code",
   "execution_count": null,
   "id": "8589ad29-42ae-4a4d-a11b-8718783862b4",
   "metadata": {},
   "outputs": [
    {
     "data": {
      "text/plain": [
       "{'log2fc': nan,\n",
       " 'log10_fdr': nan,\n",
       " 'avg_intensity': nan,\n",
       " 'id': nan,\n",
       " 'description': nan,\n",
       " 'fdr': nan}"
      ]
     },
     "execution_count": null,
     "metadata": {},
     "output_type": "execute_result"
    }
   ],
   "source": [
    "empty_data_dict"
   ]
  },
  {
   "cell_type": "markdown",
   "id": "7d5a2039-96ed-4709-abbb-9ae7a5f4a5da",
   "metadata": {},
   "source": [
    "## Visualization Function\n",
    "> Now we'll define the function to generate the side-by-side volcano and MA plots:"
   ]
  },
  {
   "cell_type": "code",
   "execution_count": null,
   "id": "fc8075a4-b076-4000-a993-83c306b3f21e",
   "metadata": {},
   "outputs": [],
   "source": [
    "#| export\n",
    "def create_volcano_ma_plots(plot_data, \n",
    "                          log2fc_threshold=1.0, \n",
    "                          fdr_threshold=0.05, \n",
    "                          plot_title=\"Volcano and MA Plots\", \n",
    "                          width=800, \n",
    "                          height=400):\n",
    "    \"\"\"\n",
    "    Create side-by-side volcano and MA plots using Plotly.\n",
    "    \n",
    "    Parameters:\n",
    "    -----------\n",
    "    plot_data : PlotData\n",
    "        A PlotData object containing the necessary data\n",
    "    log2fc_threshold : float, optional\n",
    "        Threshold for log2 fold change significance (default: 1.0)\n",
    "    fdr_threshold : float, optional\n",
    "        Threshold for FDR significance (default: 0.05)\n",
    "    plot_title : str, optional\n",
    "        Title for the plot (default: \"Volcano and MA Plots\")\n",
    "    width : int, optional\n",
    "        Width of the plot in pixels (default: 1000)\n",
    "    height : int, optional\n",
    "        Height of the plot in pixels (default: 500)\n",
    "        \n",
    "    Returns:\n",
    "    --------\n",
    "    plotly.graph_objects.Figure\n",
    "        The created figure object\n",
    "    \"\"\"\n",
    "    # Get the data for plotting\n",
    "    plotting_data = plot_data.get_data_for_plotting()\n",
    "    \n",
    "    # Get significant indices\n",
    "    sig_indices = plot_data.get_significant_indices(log2fc_threshold, fdr_threshold)\n",
    "    \n",
    "    # Create color array (black for non-significant, red for significant)\n",
    "    colors = ['black'] * len(plotting_data['log2fc'])\n",
    "    for idx in sig_indices:\n",
    "        colors[idx] = 'red'\n",
    "    \n",
    "    # Create size array (small for non-significant, larger for significant)\n",
    "    sizes = [5] * len(plotting_data['log2fc'])\n",
    "    for idx in sig_indices:\n",
    "        sizes[idx] = 10\n",
    "    \n",
    "    # Create opacity array (transparent for non-significant, opaque for significant)\n",
    "    opacities = [0.3] * len(plotting_data['log2fc'])\n",
    "    for idx in sig_indices:\n",
    "        opacities[idx] = 1.0\n",
    "    \n",
    "    # Create simplified hover text with only protein ID and description\n",
    "    hover_texts = []\n",
    "    for i in range(len(plotting_data['id'])):\n",
    "        id_text = plotting_data['id'][i]\n",
    "        desc_text = plotting_data['description'][i] if plotting_data['description'][i] else \"No description\"\n",
    "        \n",
    "        hover_texts.append(f\"ID: {id_text}<br>Description: {desc_text}\")\n",
    "    \n",
    "    # Create figure with subplots\n",
    "    fig = make_subplots(rows=1, cols=2,\n",
    "                       subplot_titles=[\"Volcano Plot\", \"MA Plot\"],\n",
    "                       horizontal_spacing=0.1)\n",
    "    \n",
    "    # Add Volcano plot (left)\n",
    "    volcano_scatter = go.Scatter(\n",
    "        x=plotting_data['log2fc'],\n",
    "        y=plotting_data['log10_fdr'],\n",
    "        mode='markers',\n",
    "        marker=dict(\n",
    "            color=colors,\n",
    "            size=sizes,\n",
    "            opacity=opacities,\n",
    "            line=dict(width=1, color='black')\n",
    "        ),\n",
    "        text=hover_texts,\n",
    "        hoverinfo='text',\n",
    "        name='Volcano Plot',\n",
    "        showlegend=False,\n",
    "        hovertemplate='%{text}<extra></extra>'\n",
    "    )\n",
    "    \n",
    "    fig.add_trace(volcano_scatter, row=1, col=1)\n",
    "    \n",
    "    # Add MA plot (right)\n",
    "    ma_scatter = go.Scatter(\n",
    "        x=plotting_data['avg_intensity'],\n",
    "        y=plotting_data['log2fc'],\n",
    "        mode='markers',\n",
    "        marker=dict(\n",
    "            color=colors,\n",
    "            size=sizes,\n",
    "            opacity=opacities,\n",
    "            line=dict(width=1, color='black')\n",
    "        ),\n",
    "        text=hover_texts,\n",
    "        hoverinfo='text',\n",
    "        name='MA Plot',\n",
    "        showlegend=False,\n",
    "        hovertemplate='%{text}<extra></extra>'\n",
    "    )\n",
    "    \n",
    "    fig.add_trace(ma_scatter, row=1, col=2)\n",
    "    \n",
    "    # Update layout\n",
    "    fig.update_layout(\n",
    "        title=plot_title,\n",
    "        width=width,\n",
    "        height=height,\n",
    "        showlegend=False,\n",
    "        hovermode='closest'\n",
    "    )\n",
    "    \n",
    "    # Update x and y axis labels\n",
    "    fig.update_xaxes(title_text=\"log2 Fold Change\", row=1, col=1)\n",
    "    fig.update_yaxes(title_text=\"-log10 FDR\", row=1, col=1)\n",
    "    \n",
    "    fig.update_xaxes(title_text=\"Average Expression\", row=1, col=2)\n",
    "    fig.update_yaxes(title_text=\"log2 Fold Change\", row=1, col=2)\n",
    "    \n",
    "    return fig"
   ]
  },
  {
   "cell_type": "markdown",
   "id": "a661ec03-22ff-46b0-902d-54c34a87cb39",
   "metadata": {},
   "source": [
    "## Example Usage\n",
    "> Let's demonstrate how to use these functions with a real dataset:"
   ]
  },
  {
   "cell_type": "code",
   "execution_count": null,
   "id": "9c30b796-d936-4695-bf0a-38610bc04463",
   "metadata": {},
   "outputs": [
    {
     "name": "stdout",
     "output_type": "stream",
     "text": [
      "Data loaded: True\n",
      "Number of rows: 6205\n",
      "First few IDs: ['Blasticidin' 'Puromycin' 'Tb05.5K5.100;Tb927.5.4450'\n",
      " 'Tb05.5K5.110;Tb927.5.4460' 'Tb05.5K5.120;Tb927.5.4470']\n",
      "Number of significant features: 80\n"
     ]
    }
   ],
   "source": [
    "column_mapping = {\n",
    "    'log2fc': 'logFC',            # logFC column from your data\n",
    "    'fdr': 'FDR',                # FDR column from your data\n",
    "    'avg_intensity': 'log_AveExpr', # log_AveExpr column from your data\n",
    "    'id': 'Gene_id',            # Gene_acc column from your data\n",
    "    'description': 'Desc'         # Desc column from your data\n",
    "}\n",
    "\n",
    "file_path = '../tests/volcano_plots/for_web_limma_WT-C3.csv.zip'\n",
    "# Create the PlotData instance\n",
    "plot_data = PlotData(file_path, column_mapping)\n",
    "\n",
    "# Print some information about the loaded data\n",
    "print(f\"Data loaded: {plot_data.data is not None}\")\n",
    "print(f\"Number of rows: {len(plot_data.data) if plot_data.data is not None else 0}\")\n",
    "print(f\"First few IDs: {plot_data.id[:5] if hasattr(plot_data, 'id') else 'Not loaded'}\")\n",
    "\n",
    "# Get significant features\n",
    "sig_indices = plot_data.get_significant_indices(log2fc_threshold=0.2, fdr_threshold=0.1)\n",
    "print(f\"Number of significant features: {len(sig_indices)}\")\n",
    "\n",
    "# Quick access to all plotting data\n",
    "plotting_data = plot_data.get_data_for_plotting()"
   ]
  },
  {
   "cell_type": "code",
   "execution_count": null,
   "id": "21c646c3-071b-4b64-98dd-f72cfea8657c",
   "metadata": {},
   "outputs": [
    {
     "data": {
      "text/html": [
       "<iframe\n",
       "    scrolling=\"no\"\n",
       "    width=\"820px\"\n",
       "    height=\"420\"\n",
       "    src=\"iframe_figures/figure_17.html\"\n",
       "    frameborder=\"0\"\n",
       "    allowfullscreen\n",
       "></iframe>\n"
      ]
     },
     "metadata": {},
     "output_type": "display_data"
    }
   ],
   "source": [
    "fig = create_volcano_ma_plots(\n",
    "    plot_data,\n",
    "    plot_title=\"Differential Expression Analysis: Sample vs Control\"\n",
    ")\n",
    "fig.show('iframe')"
   ]
  },
  {
   "cell_type": "code",
   "execution_count": null,
   "id": "ef5e50bf-3c35-4018-a9cf-4e67fcba462b",
   "metadata": {},
   "outputs": [],
   "source": [
    "#| hide\n",
    "import nbdev; nbdev.nbdev_export()"
   ]
  }
 ],
 "metadata": {
  "kernelspec": {
   "display_name": "python3",
   "language": "python",
   "name": "python3"
  }
 },
 "nbformat": 4,
 "nbformat_minor": 5
}
