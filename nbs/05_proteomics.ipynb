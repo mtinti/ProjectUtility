{
 "cells": [
  {
   "cell_type": "code",
   "execution_count": null,
   "id": "bdceaa73-acd8-490f-976c-98eae0b4611d",
   "metadata": {},
   "outputs": [],
   "source": [
    "#| default_exp proteomics"
   ]
  },
  {
   "cell_type": "markdown",
   "id": "e07480f1-ceba-47f7-b8e8-be7e66f90f1a",
   "metadata": {},
   "source": [
    "# 🔬 Proteomics Quality Control: Beyond the Basics\n",
    "\n",
    "> ##  Peptide Identification Rate Analysis\n",
    "\n",
    "Identification rates across retention time tell a powerful story about your chromatography and instrument performanc.\n",
    "By visualizing these patterns, we can:\n",
    "\n",
    "- **Pinpoint** chromatographic issues before they compromise your analysis\n",
    "- **Track** instrument performance over time\n",
    "- **Validate** analytical methods with quantitative metrics\n",
    "\n",
    "### ⚠️ Critical Note for DIA-NN Users\n",
    "\n",
    "When working with DIA-NN output, setting the **precursor FDR threshold to 100%** is essential for meaningful quality control. This approach ensures:\n",
    "\n",
    "- **Complete tracking** of both identified and non-identified precursors\n",
    "- **Comprehensive coverage** of all MS2 events across the chromatographic gradient\n",
    "- **Unbiased assessment** of identification success rates in different RT regions\n",
    "- **Detection of pattern anomalies** that might be missed with stringent filtering\n"
   ]
  },
  {
   "cell_type": "code",
   "execution_count": null,
   "id": "434ec4fc-9aa9-4bd3-ae23-8867e09b2d00",
   "metadata": {},
   "outputs": [],
   "source": [
    "#| hide\n",
    "import warnings\n",
    "warnings.filterwarnings(\"ignore\")"
   ]
  },
  {
   "cell_type": "code",
   "execution_count": null,
   "id": "c638898c-eccc-482b-93d3-464bfa3f4d38",
   "metadata": {},
   "outputs": [],
   "source": [
    "#| hide\n",
    "from nbdev.showdoc import *"
   ]
  },
  {
   "cell_type": "code",
   "execution_count": null,
   "id": "06068839-4f51-44e7-b8e1-4f920af93c7a",
   "metadata": {},
   "outputs": [],
   "source": [
    "#| export\n",
    "import numpy as np\n",
    "import matplotlib.pyplot as plt\n",
    "import polars as pl\n",
    "import pandas as pd\n",
    "import matplotlib.pyplot as plt\n",
    "import seaborn as sns\n",
    "import os"
   ]
  },
  {
   "cell_type": "code",
   "execution_count": null,
   "id": "ebc322db-4111-4660-a168-d6284313f584",
   "metadata": {},
   "outputs": [],
   "source": [
    "#pl.read_csv??"
   ]
  },
  {
   "cell_type": "code",
   "execution_count": null,
   "id": "f078875c-8418-4444-ac57-b9b275ccc7d2",
   "metadata": {},
   "outputs": [],
   "source": []
  },
  {
   "cell_type": "code",
   "execution_count": null,
   "id": "7dfa503d-4494-4beb-8cb3-7cef0df22fdd",
   "metadata": {},
   "outputs": [],
   "source": []
  },
  {
   "cell_type": "code",
   "execution_count": null,
   "id": "75d1eb11-446b-4ae7-b0dd-fee26e6b9e30",
   "metadata": {},
   "outputs": [
    {
     "name": "stdout",
     "output_type": "stream",
     "text": [
      "1\n"
     ]
    }
   ],
   "source": [
    "'''\n",
    "path ='/Volumes/dgh-lab/PROTEOMICS_DATA_DUMP/020_2025_DUN_DH/DIA-NN/020_2025_DUN_DH/'\n",
    "fname = '020_2025_DUN_DH-report.parquet'\n",
    "tmp = pl.read_parquet(os.path.join(path,fname)).to_pandas()\n",
    "tmp['RT.Diff']=tmp['RT.Stop']-tmp['RT.Start']\n",
    "tmp['RT.Bin']=tmp['RT'].astype(int)\n",
    "rt_dataset = tmp[['Run','RT','RT.Start','RT.Stop','RT.Diff','RT.Bin','Q.Value','Ms1.Area','Precursor.Quantity']]\n",
    "rt_dataset = rt_dataset.sort_values(['Run','RT'])\n",
    "rt_dataset['Significant']=(rt_dataset['Q.Value']<0.01).astype(int)\n",
    "rt_dataset.head()\n",
    "rt_dataset['Significant'].value_counts()\n",
    "rt_dataset[rt_dataset['Run']=='020_2025-DUN_DH-GB-2T1-A'].plot(kind='scatter',x='RT',y='RT.Diff')\n",
    "# evantually track\n",
    "RT vs Precursor.Quantity / Ms1.Area\n",
    "RT vs RT.Diff\n",
    "'''\n",
    "print(1)\n",
    "# working in progress"
   ]
  },
  {
   "cell_type": "code",
   "execution_count": null,
   "id": "2d7d59a9-904f-4c2c-995d-a8c8f71070db",
   "metadata": {},
   "outputs": [],
   "source": [
    "#| export\n",
    "def prepare_data_MaxQuant(df):\n",
    "    pass"
   ]
  },
  {
   "cell_type": "code",
   "execution_count": null,
   "id": "34bfbd0e-5bea-4128-a0a7-8aebf13d49f9",
   "metadata": {},
   "outputs": [],
   "source": [
    "#| export\n",
    "def prepare_data_Spectronaut(df):\n",
    "    pass"
   ]
  },
  {
   "cell_type": "code",
   "execution_count": null,
   "id": "6e06b82c-bdfa-4681-98d4-13ee6942344d",
   "metadata": {},
   "outputs": [],
   "source": [
    "#| export\n",
    "def prepare_data_DiaNN(df):\n",
    "    \"\"\"\n",
    "    Process DIA-NN output data to prepare it for plotting retention time bin analysis.\n",
    "    \n",
    "    This function takes DIA-NN report output and:\n",
    "    1. Creates retention time bins from the RT column\n",
    "    2. Groups data by Run and RT bin\n",
    "    3. Counts identified and non-identified peptides in each bin\n",
    "    4. Calculates the identification ratio\n",
    "    \n",
    "    Parameters:\n",
    "    -----------\n",
    "    df : polars.DataFrame\n",
    "        DIA-NN output containing at minimum the columns:\n",
    "        - 'Run': The run/sample identifier\n",
    "        - 'RT': Retention time values (in minutes)\n",
    "        - 'PG.Q.Value': Protein group Q-value (false discovery rate)\n",
    "        - 'Q.Value': Peptide Q-value (false discovery rate)\n",
    "    \n",
    "    Returns:\n",
    "    --------\n",
    "    polars.DataFrame\n",
    "        A processed DataFrame with the following columns:\n",
    "        - 'Run': The run/sample identifier\n",
    "        - 'RT_bin': Binned retention time (integer)\n",
    "        - 'Identified': Count of peptides with both PG.Q.Value and Q.Value ≤ 0.01\n",
    "        - 'NotIdentified': Count of peptides that don't meet the Q-value thresholds\n",
    "        - 'ratio': Proportion of identified peptides (Identified/(Identified+NotIdentified))\n",
    "        \n",
    "    Notes:\n",
    "    ------\n",
    "    - The function uses a 1% FDR threshold for peptide identifications\n",
    "    - RT values are binned by truncating to integers (e.g., 10.7 → 10)\n",
    "    - The resulting DataFrame is sorted by Run and then RT_bin\n",
    "    \"\"\"\n",
    "    # Create RT bins by casting RT values to integers\n",
    "    # This effectively truncates decimal values (e.g., 10.7 becomes 10)\n",
    "    df = df.with_columns([\n",
    "        pl.col(\"RT\").cast(int).alias(\"RT_bin\")\n",
    "    ])\n",
    "    \n",
    "    # Group by \"Run\" and \"RT_bin\" and calculate metrics\n",
    "    results = (df\n",
    "               .group_by([\"Run\", \"RT_bin\"])\n",
    "               .agg([\n",
    "                   # Count identified peptides - those passing the 1% FDR threshold\n",
    "                   # at both protein group and peptide levels\n",
    "                   pl.when( (pl.col(\"Q.Value\") <= 0.01))\n",
    "                    .then(1)  # If condition is met, count as 1\n",
    "                    .otherwise(0)  # If condition is not met, count as 0\n",
    "                    .sum()  # Sum all the 1s to get total count\n",
    "                    .alias(\"Identified\"),\n",
    "                   \n",
    "                   # Count non-identified peptides - those failing either FDR threshold\n",
    "                   pl.when((pl.col(\"Q.Value\") <= 0.01))\n",
    "                    .then(0)  # If condition is met (identified), count as 0\n",
    "                    .otherwise(1)  # If condition is not met (not identified), count as 1\n",
    "                    .sum()  # Sum all the 1s to get total count\n",
    "                    .alias(\"NotIdentified\")\n",
    "               ])\n",
    "              )\n",
    "    \n",
    "    # Calculate the identification ratio (proportion of peptides that were identified)\n",
    "    results = results.with_columns(\n",
    "        (pl.col(\"Identified\") / (pl.col(\"NotIdentified\") + pl.col(\"Identified\"))).alias(\"ratio\")\n",
    "    )\n",
    "    \n",
    "    # Sort the results DataFrame by \"Run\" and \"RT_bin\" for easier analysis\n",
    "    results = results.sort([\"Run\", \"RT_bin\"])\n",
    "    \n",
    "    return results\n"
   ]
  },
  {
   "cell_type": "code",
   "execution_count": null,
   "id": "d1b9e911-4292-4ce7-9807-60c487f8efa4",
   "metadata": {},
   "outputs": [],
   "source": [
    "#| export\n",
    "def plot_proteomics_run(df, run_name=None, figsize=(12, 6), identified_color='blue', notidentified_color='red', \n",
    "                        alpha=1.0, add_labels=True, use_different_colors=False):\n",
    "    \"\"\"\n",
    "    Plot RT_bin vs Identified and RT_bin vs NotIdentified for runs.\n",
    "    \n",
    "    Parameters:\n",
    "    -----------\n",
    "    df : pandas.DataFrame\n",
    "        DataFrame containing Run, RT_bin, Identified, and NotIdentified columns\n",
    "    run_name : str, optional (default=None)\n",
    "        Name of the run to plot. If None, plots all runs overlapping.\n",
    "    figsize : tuple, optional (default=(12, 6))\n",
    "        Figure size as (width, height) in inches\n",
    "    identified_color : str, optional (default='blue')\n",
    "        Color for the Identified line\n",
    "    notidentified_color : str, optional (default='red')\n",
    "        Color for the NotIdentified line\n",
    "    alpha : float, optional (default=1.0)\n",
    "        Transparency for the lines\n",
    "    add_labels : bool, optional (default=True)\n",
    "        Whether to add data labels for NotIdentified points\n",
    "    use_different_colors : bool, optional (default=False)\n",
    "        If True and plotting all runs, use different colors for each run\n",
    "        \n",
    "    Returns:\n",
    "    --------\n",
    "    fig, ax : matplotlib figure and axes objects\n",
    "    \"\"\"\n",
    "    # Create the plot\n",
    "    fig, ax = plt.subplots(figsize=figsize)\n",
    "    \n",
    "    # Determine which runs to plot\n",
    "    if run_name is not None:\n",
    "        runs_to_plot = [run_name]\n",
    "        title = f'Identified vs NotIdentified Precursors by Retention Time: {run_name}'\n",
    "    else:\n",
    "        runs_to_plot = df['Run'].unique()\n",
    "        title = 'Identified vs NotIdentified Precursors by Retention Time'\n",
    "    \n",
    "    # Set up color palettes if using different colors\n",
    "    n_runs = len(runs_to_plot)\n",
    "    if use_different_colors and run_name is None:\n",
    "        identified_colors = plt.cm.viridis(np.linspace(0, 0.8, n_runs))\n",
    "        notidentified_colors = plt.cm.plasma(np.linspace(0, 0.8, n_runs))\n",
    "    \n",
    "    # Loop through each run to plot\n",
    "    for i, run in enumerate(runs_to_plot):\n",
    "        run_data = df[df['Run'] == run].copy()\n",
    "        \n",
    "        if run_data.empty:\n",
    "            print(f\"No data found for run '{run}'\")\n",
    "            continue\n",
    "        \n",
    "        # Determine colors for this run\n",
    "        if use_different_colors and run_name is None:\n",
    "            i_color = identified_colors[i]\n",
    "            ni_color = notidentified_colors[i]\n",
    "            run_label = run  # Use run name as label when using different colors\n",
    "        else:\n",
    "            i_color = identified_color\n",
    "            ni_color = notidentified_color\n",
    "            # Only add to legend for first run when all runs use same colors\n",
    "            run_label = run if i == 0 or use_different_colors else None\n",
    "        \n",
    "        # Plot Identified\n",
    "        ax.plot(run_data['RT_bin'], run_data['Identified'], \n",
    "                marker='o', linestyle='-', color=i_color, alpha=alpha,\n",
    "                label=f'{run} - Identified' if use_different_colors else ('Identified' if i == 0 else None))\n",
    "        \n",
    "        # Plot NotIdentified on the same axis\n",
    "        ax.plot(run_data['RT_bin'], run_data['NotIdentified'], \n",
    "                marker='s', linestyle='-', color=ni_color, alpha=alpha,\n",
    "                label=f'{run} - NotIdentified' if use_different_colors else ('NotIdentified' if i == 0 else None))\n",
    "        \n",
    "        # Add data labels for NotIdentified points where count > 0\n",
    "        #if add_labels and (run_name is not None or n_runs <= 3):  # Only add labels for single run or small number of runs\n",
    "        #    for _, row in run_data.iterrows():\n",
    "        #        if row['NotIdentified'] > 0:\n",
    "        #            ax.annotate(f\"{int(row['NotIdentified'])}\", \n",
    "        #                      (row['RT_bin'], row['NotIdentified']),\n",
    "        #                      xytext=(5, 5), textcoords='offset points')\n",
    "    \n",
    "    # Set plot title and labels\n",
    "    ax.set_title(title)\n",
    "    ax.set_xlabel('RT_bin')\n",
    "    ax.set_ylabel('Count')\n",
    "    ax.legend()\n",
    "    ax.grid(True, alpha=0.3)\n",
    "    \n",
    "    plt.tight_layout()\n",
    "    return fig, ax"
   ]
  },
  {
   "cell_type": "markdown",
   "id": "feef064b-464d-4d7d-a76a-2125d74490a7",
   "metadata": {},
   "source": [
    "## Example\n",
    "```python\n",
    "path ='/Volumes/dgh-lab/PROTEOMICS_DATA_DUMP/020_2025_DUN_DH/DIA-NN/020_2025_DUN_DH/'\n",
    "fname = '020_2025_DUN_DH-report.parquet'\n",
    "tmp = pl.read_parquet(os.path.join(path,fname))\n",
    "count_data= prepare_data_DiaNN(tmp)\n",
    "count_data=count_data.to_pandas()\n",
    "count_data.head()\n",
    "plot_proteomics_run(count_data)\n",
    "```"
   ]
  },
  {
   "cell_type": "code",
   "execution_count": null,
   "id": "dd5fe525-d13d-4e41-9ba1-988bf09cff9b",
   "metadata": {},
   "outputs": [
    {
     "data": {
      "image/png": "[encoded data removed]",
      "text/plain": [
       "<Figure size 576x288 with 1 Axes>"
      ]
     },
     "metadata": {
      "needs_background": "light"
     },
     "output_type": "display_data"
    }
   ],
   "source": [
    "#| hide\n",
    "fname = '../tests/proteomics/dia_nn_report.tsv.gz'\n",
    "tmp = pl.read_csv(fname,separator='\\t')\n",
    "count_data= prepare_data_DiaNN(tmp)\n",
    "count_data=count_data.to_pandas()\n",
    "_ = plot_proteomics_run(count_data,\n",
    "                               figsize=(8,4))"
   ]
  },
  {
   "cell_type": "code",
   "execution_count": null,
   "id": "f0e61a74-64d6-4cc4-bd37-1a71bf0b8f6e",
   "metadata": {},
   "outputs": [],
   "source": [
    "#| hide\n",
    "import nbdev; nbdev.nbdev_export()"
   ]
  },
  {
   "cell_type": "code",
   "execution_count": null,
   "id": "9653bc2e-5d65-4047-b5ca-9a192d3e76d4",
   "metadata": {},
   "outputs": [],
   "source": []
  }
 ],
 "metadata": {
  "kernelspec": {
   "display_name": "python3",
   "language": "python",
   "name": "python3"
  }
 },
 "nbformat": 4,
 "nbformat_minor": 5
}
